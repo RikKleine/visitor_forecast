{
 "cells": [
  {
   "cell_type": "markdown",
   "metadata": {},
   "source": [
    "# Step 4 model: random forrest & DT"
   ]
  },
  {
   "cell_type": "code",
   "execution_count": 87,
   "metadata": {},
   "outputs": [],
   "source": [
    "from sklearn.model_selection import train_test_split\n",
    "from sklearn.ensemble import RandomForestClassifier\n",
    "from sklearn.metrics import confusion_matrix\n",
    "from sklearn.metrics import roc_curve\n",
    "import matplotlib\n",
    "import matplotlib.pyplot as plt\n",
    "import pandas as pd\n",
    "import numpy as np\n",
    "from sklearn.cluster import KMeans\n",
    "from scipy.spatial.distance import cdist"
   ]
  },
  {
   "cell_type": "code",
   "execution_count": 38,
   "metadata": {},
   "outputs": [
    {
     "name": "stdout",
     "output_type": "stream",
     "text": [
      "<class 'pandas.core.frame.DataFrame'>\n",
      "RangeIndex: 42193 entries, 0 to 42192\n",
      "Data columns (total 12 columns):\n",
      "Unnamed: 0                         42193 non-null int64\n",
      "air_store_id                       42193 non-null object\n",
      "visit_date                         42193 non-null object\n",
      "sum_visitors                       42193 non-null int64\n",
      "avg_diff_reservation_visit_days    42193 non-null int64\n",
      "visit_datetime                     42193 non-null datetime64[ns]\n",
      "weekday                            42193 non-null int64\n",
      "weekday_name                       42193 non-null object\n",
      "year                               42193 non-null int64\n",
      "month                              42193 non-null int64\n",
      "day_of_week                        42193 non-null object\n",
      "holiday_flg                        42193 non-null int64\n",
      "dtypes: datetime64[ns](1), int64(7), object(4)\n",
      "memory usage: 3.9+ MB\n",
      "None\n"
     ]
    },
    {
     "data": {
      "text/html": [
       "<div>\n",
       "<style scoped>\n",
       "    .dataframe tbody tr th:only-of-type {\n",
       "        vertical-align: middle;\n",
       "    }\n",
       "\n",
       "    .dataframe tbody tr th {\n",
       "        vertical-align: top;\n",
       "    }\n",
       "\n",
       "    .dataframe thead th {\n",
       "        text-align: right;\n",
       "    }\n",
       "</style>\n",
       "<table border=\"1\" class=\"dataframe\">\n",
       "  <thead>\n",
       "    <tr style=\"text-align: right;\">\n",
       "      <th></th>\n",
       "      <th>Unnamed: 0</th>\n",
       "      <th>air_store_id</th>\n",
       "      <th>visit_date</th>\n",
       "      <th>sum_visitors</th>\n",
       "      <th>avg_diff_reservation_visit_days</th>\n",
       "      <th>visit_datetime</th>\n",
       "      <th>weekday</th>\n",
       "      <th>weekday_name</th>\n",
       "      <th>year</th>\n",
       "      <th>month</th>\n",
       "      <th>day_of_week</th>\n",
       "      <th>holiday_flg</th>\n",
       "    </tr>\n",
       "  </thead>\n",
       "  <tbody>\n",
       "    <tr>\n",
       "      <th>42188</th>\n",
       "      <td>42188</td>\n",
       "      <td>air_fea5dc9594450608</td>\n",
       "      <td>2017-04-22</td>\n",
       "      <td>4</td>\n",
       "      <td>0</td>\n",
       "      <td>2017-04-22</td>\n",
       "      <td>5</td>\n",
       "      <td>Saturday</td>\n",
       "      <td>2017</td>\n",
       "      <td>4</td>\n",
       "      <td>Saturday</td>\n",
       "      <td>0</td>\n",
       "    </tr>\n",
       "    <tr>\n",
       "      <th>42189</th>\n",
       "      <td>42189</td>\n",
       "      <td>air_fea5dc9594450608</td>\n",
       "      <td>2017-04-25</td>\n",
       "      <td>4</td>\n",
       "      <td>18</td>\n",
       "      <td>2017-04-25</td>\n",
       "      <td>1</td>\n",
       "      <td>Tuesday</td>\n",
       "      <td>2017</td>\n",
       "      <td>4</td>\n",
       "      <td>Tuesday</td>\n",
       "      <td>0</td>\n",
       "    </tr>\n",
       "    <tr>\n",
       "      <th>42190</th>\n",
       "      <td>42190</td>\n",
       "      <td>air_fea5dc9594450608</td>\n",
       "      <td>2017-04-28</td>\n",
       "      <td>6</td>\n",
       "      <td>58</td>\n",
       "      <td>2017-04-28</td>\n",
       "      <td>4</td>\n",
       "      <td>Friday</td>\n",
       "      <td>2017</td>\n",
       "      <td>4</td>\n",
       "      <td>Friday</td>\n",
       "      <td>0</td>\n",
       "    </tr>\n",
       "    <tr>\n",
       "      <th>42191</th>\n",
       "      <td>42191</td>\n",
       "      <td>air_fea5dc9594450608</td>\n",
       "      <td>2017-05-20</td>\n",
       "      <td>12</td>\n",
       "      <td>68</td>\n",
       "      <td>2017-05-20</td>\n",
       "      <td>5</td>\n",
       "      <td>Saturday</td>\n",
       "      <td>2017</td>\n",
       "      <td>5</td>\n",
       "      <td>Saturday</td>\n",
       "      <td>0</td>\n",
       "    </tr>\n",
       "    <tr>\n",
       "      <th>42192</th>\n",
       "      <td>42192</td>\n",
       "      <td>air_fee8dcf4d619598e</td>\n",
       "      <td>2017-01-09</td>\n",
       "      <td>5</td>\n",
       "      <td>16</td>\n",
       "      <td>2017-01-09</td>\n",
       "      <td>0</td>\n",
       "      <td>Monday</td>\n",
       "      <td>2017</td>\n",
       "      <td>1</td>\n",
       "      <td>Monday</td>\n",
       "      <td>1</td>\n",
       "    </tr>\n",
       "  </tbody>\n",
       "</table>\n",
       "</div>"
      ],
      "text/plain": [
       "       Unnamed: 0          air_store_id  visit_date  sum_visitors  \\\n",
       "42188       42188  air_fea5dc9594450608  2017-04-22             4   \n",
       "42189       42189  air_fea5dc9594450608  2017-04-25             4   \n",
       "42190       42190  air_fea5dc9594450608  2017-04-28             6   \n",
       "42191       42191  air_fea5dc9594450608  2017-05-20            12   \n",
       "42192       42192  air_fee8dcf4d619598e  2017-01-09             5   \n",
       "\n",
       "       avg_diff_reservation_visit_days visit_datetime  weekday weekday_name  \\\n",
       "42188                                0     2017-04-22        5     Saturday   \n",
       "42189                               18     2017-04-25        1      Tuesday   \n",
       "42190                               58     2017-04-28        4       Friday   \n",
       "42191                               68     2017-05-20        5     Saturday   \n",
       "42192                               16     2017-01-09        0       Monday   \n",
       "\n",
       "       year  month day_of_week  holiday_flg  \n",
       "42188  2017      4    Saturday            0  \n",
       "42189  2017      4     Tuesday            0  \n",
       "42190  2017      4      Friday            0  \n",
       "42191  2017      5    Saturday            0  \n",
       "42192  2017      1      Monday            1  "
      ]
     },
     "execution_count": 38,
     "metadata": {},
     "output_type": "execute_result"
    }
   ],
   "source": [
    "path = \"C:/Users/kleis500/Eclipse workspace/kaggle/japan restaurant/data/\"\n",
    "reservation_data=pd.read_csv(path+'reservation_data.csv',sep=\";\")\n",
    "reservation_data['visit_datetime'] = pd.to_datetime(reservation_data['visit_date'])\n",
    "print(reservation_data.info())\n",
    "reservation_data.tail()"
   ]
  },
  {
   "cell_type": "code",
   "execution_count": 43,
   "metadata": {},
   "outputs": [],
   "source": [
    "#print(len(reservation_data.air_store_id.unique()))\n",
    "#len(visit_data.air_store_id.unique())"
   ]
  },
  {
   "cell_type": "code",
   "execution_count": 5,
   "metadata": {},
   "outputs": [
    {
     "name": "stdout",
     "output_type": "stream",
     "text": [
      "<class 'pandas.core.frame.DataFrame'>\n",
      "RangeIndex: 252108 entries, 0 to 252107\n",
      "Data columns (total 8 columns):\n",
      "air_store_id      252108 non-null object\n",
      "visit_date        252108 non-null object\n",
      "visitors          252108 non-null int64\n",
      "visit_datetime    252108 non-null datetime64[ns]\n",
      "weekday           252108 non-null int64\n",
      "weekday_          252108 non-null object\n",
      "year              252108 non-null int64\n",
      "month             252108 non-null int64\n",
      "dtypes: datetime64[ns](1), int64(4), object(3)\n",
      "memory usage: 15.4+ MB\n",
      "None\n"
     ]
    },
    {
     "data": {
      "text/html": [
       "<div>\n",
       "<style scoped>\n",
       "    .dataframe tbody tr th:only-of-type {\n",
       "        vertical-align: middle;\n",
       "    }\n",
       "\n",
       "    .dataframe tbody tr th {\n",
       "        vertical-align: top;\n",
       "    }\n",
       "\n",
       "    .dataframe thead th {\n",
       "        text-align: right;\n",
       "    }\n",
       "</style>\n",
       "<table border=\"1\" class=\"dataframe\">\n",
       "  <thead>\n",
       "    <tr style=\"text-align: right;\">\n",
       "      <th></th>\n",
       "      <th>air_store_id</th>\n",
       "      <th>visit_date</th>\n",
       "      <th>visitors</th>\n",
       "      <th>visit_datetime</th>\n",
       "      <th>weekday</th>\n",
       "      <th>weekday_</th>\n",
       "      <th>year</th>\n",
       "      <th>month</th>\n",
       "    </tr>\n",
       "  </thead>\n",
       "  <tbody>\n",
       "    <tr>\n",
       "      <th>0</th>\n",
       "      <td>air_ba937bf13d40fb24</td>\n",
       "      <td>2016-01-13</td>\n",
       "      <td>25</td>\n",
       "      <td>2016-01-13</td>\n",
       "      <td>2</td>\n",
       "      <td>Wednesday</td>\n",
       "      <td>2016</td>\n",
       "      <td>1</td>\n",
       "    </tr>\n",
       "    <tr>\n",
       "      <th>1</th>\n",
       "      <td>air_ba937bf13d40fb24</td>\n",
       "      <td>2016-01-14</td>\n",
       "      <td>32</td>\n",
       "      <td>2016-01-14</td>\n",
       "      <td>3</td>\n",
       "      <td>Thursday</td>\n",
       "      <td>2016</td>\n",
       "      <td>1</td>\n",
       "    </tr>\n",
       "    <tr>\n",
       "      <th>2</th>\n",
       "      <td>air_ba937bf13d40fb24</td>\n",
       "      <td>2016-01-15</td>\n",
       "      <td>29</td>\n",
       "      <td>2016-01-15</td>\n",
       "      <td>4</td>\n",
       "      <td>Friday</td>\n",
       "      <td>2016</td>\n",
       "      <td>1</td>\n",
       "    </tr>\n",
       "    <tr>\n",
       "      <th>3</th>\n",
       "      <td>air_ba937bf13d40fb24</td>\n",
       "      <td>2016-01-16</td>\n",
       "      <td>22</td>\n",
       "      <td>2016-01-16</td>\n",
       "      <td>5</td>\n",
       "      <td>Saturday</td>\n",
       "      <td>2016</td>\n",
       "      <td>1</td>\n",
       "    </tr>\n",
       "    <tr>\n",
       "      <th>4</th>\n",
       "      <td>air_ba937bf13d40fb24</td>\n",
       "      <td>2016-01-18</td>\n",
       "      <td>6</td>\n",
       "      <td>2016-01-18</td>\n",
       "      <td>0</td>\n",
       "      <td>Monday</td>\n",
       "      <td>2016</td>\n",
       "      <td>1</td>\n",
       "    </tr>\n",
       "  </tbody>\n",
       "</table>\n",
       "</div>"
      ],
      "text/plain": [
       "           air_store_id  visit_date  visitors visit_datetime  weekday  \\\n",
       "0  air_ba937bf13d40fb24  2016-01-13        25     2016-01-13        2   \n",
       "1  air_ba937bf13d40fb24  2016-01-14        32     2016-01-14        3   \n",
       "2  air_ba937bf13d40fb24  2016-01-15        29     2016-01-15        4   \n",
       "3  air_ba937bf13d40fb24  2016-01-16        22     2016-01-16        5   \n",
       "4  air_ba937bf13d40fb24  2016-01-18         6     2016-01-18        0   \n",
       "\n",
       "    weekday_  year  month  \n",
       "0  Wednesday  2016      1  \n",
       "1   Thursday  2016      1  \n",
       "2     Friday  2016      1  \n",
       "3   Saturday  2016      1  \n",
       "4     Monday  2016      1  "
      ]
     },
     "execution_count": 5,
     "metadata": {},
     "output_type": "execute_result"
    }
   ],
   "source": [
    "visit_data=pd.read_csv(path+'air_visit_data.csv')\n",
    "visit_data['visit_datetime']=pd.to_datetime(visit_data['visit_date'])\n",
    "visit_data['weekday'] = visit_data['visit_datetime'].dt.weekday\n",
    "visit_data['weekday_'] = visit_data['visit_datetime'].dt.weekday_name\n",
    "visit_data['year'] = visit_data['visit_datetime'].dt.year\n",
    "visit_data['month'] = visit_data['visit_datetime'].dt.month\n",
    "print(visit_data.info())\n",
    "visit_data.head()"
   ]
  },
  {
   "cell_type": "code",
   "execution_count": 56,
   "metadata": {},
   "outputs": [
    {
     "data": {
      "text/html": [
       "<div>\n",
       "<style scoped>\n",
       "    .dataframe tbody tr th:only-of-type {\n",
       "        vertical-align: middle;\n",
       "    }\n",
       "\n",
       "    .dataframe tbody tr th {\n",
       "        vertical-align: top;\n",
       "    }\n",
       "\n",
       "    .dataframe thead th {\n",
       "        text-align: right;\n",
       "    }\n",
       "</style>\n",
       "<table border=\"1\" class=\"dataframe\">\n",
       "  <thead>\n",
       "    <tr style=\"text-align: right;\">\n",
       "      <th></th>\n",
       "      <th>air_store_id</th>\n",
       "      <th>visit_date</th>\n",
       "      <th>visitors</th>\n",
       "      <th>visit_datetime</th>\n",
       "      <th>weekday</th>\n",
       "      <th>weekday_</th>\n",
       "      <th>year</th>\n",
       "      <th>month</th>\n",
       "      <th>sum_visitors</th>\n",
       "      <th>avg_diff_reservation_visit_days</th>\n",
       "      <th>weekday_name</th>\n",
       "      <th>day_of_week</th>\n",
       "      <th>holiday_flg</th>\n",
       "    </tr>\n",
       "  </thead>\n",
       "  <tbody>\n",
       "    <tr>\n",
       "      <th>0</th>\n",
       "      <td>air_35512c42db0868da</td>\n",
       "      <td>2016-02-27</td>\n",
       "      <td>6</td>\n",
       "      <td>2016-02-27</td>\n",
       "      <td>5</td>\n",
       "      <td>Saturday</td>\n",
       "      <td>2016</td>\n",
       "      <td>2</td>\n",
       "      <td>12</td>\n",
       "      <td>0</td>\n",
       "      <td>Saturday</td>\n",
       "      <td>Saturday</td>\n",
       "      <td>0</td>\n",
       "    </tr>\n",
       "    <tr>\n",
       "      <th>1</th>\n",
       "      <td>air_ee3a01f0c71a769f</td>\n",
       "      <td>2016-01-04</td>\n",
       "      <td>61</td>\n",
       "      <td>2016-01-04</td>\n",
       "      <td>0</td>\n",
       "      <td>Monday</td>\n",
       "      <td>2016</td>\n",
       "      <td>1</td>\n",
       "      <td>2</td>\n",
       "      <td>0</td>\n",
       "      <td>Monday</td>\n",
       "      <td>Monday</td>\n",
       "      <td>0</td>\n",
       "    </tr>\n",
       "  </tbody>\n",
       "</table>\n",
       "</div>"
      ],
      "text/plain": [
       "           air_store_id  visit_date  visitors visit_datetime  weekday  \\\n",
       "0  air_35512c42db0868da  2016-02-27         6     2016-02-27        5   \n",
       "1  air_ee3a01f0c71a769f  2016-01-04        61     2016-01-04        0   \n",
       "\n",
       "   weekday_  year  month  sum_visitors  avg_diff_reservation_visit_days  \\\n",
       "0  Saturday  2016      2            12                                0   \n",
       "1    Monday  2016      1             2                                0   \n",
       "\n",
       "  weekday_name day_of_week  holiday_flg  \n",
       "0     Saturday    Saturday            0  \n",
       "1       Monday      Monday            0  "
      ]
     },
     "execution_count": 56,
     "metadata": {},
     "output_type": "execute_result"
    }
   ],
   "source": [
    "reserve_visit_data=pd.merge(visit_data, reservation_data, how='inner', on=['air_store_id', 'weekday', 'year', 'month','visit_date', 'visit_datetime'])\n",
    "reserve_visit_data.drop('Unnamed: 0', inplace=True, axis=1)\n",
    "reserve_visit_data.head(2)"
   ]
  },
  {
   "cell_type": "code",
   "execution_count": 58,
   "metadata": {},
   "outputs": [
    {
     "name": "stdout",
     "output_type": "stream",
     "text": [
      "<class 'pandas.core.frame.DataFrame'>\n",
      "Int64Index: 35698 entries, 0 to 35697\n",
      "Data columns (total 13 columns):\n",
      "air_store_id                       35698 non-null object\n",
      "visit_date                         35698 non-null object\n",
      "visitors                           35698 non-null int64\n",
      "visit_datetime                     35698 non-null datetime64[ns]\n",
      "weekday                            35698 non-null int64\n",
      "weekday_                           35698 non-null object\n",
      "year                               35698 non-null int64\n",
      "month                              35698 non-null int64\n",
      "sum_visitors                       35698 non-null int64\n",
      "avg_diff_reservation_visit_days    35698 non-null int64\n",
      "weekday_name                       35698 non-null object\n",
      "day_of_week                        35698 non-null object\n",
      "holiday_flg                        35698 non-null int64\n",
      "dtypes: datetime64[ns](1), int64(7), object(5)\n",
      "memory usage: 3.8+ MB\n"
     ]
    }
   ],
   "source": [
    "reserve_visit_data.info()"
   ]
  },
  {
   "cell_type": "code",
   "execution_count": 59,
   "metadata": {},
   "outputs": [
    {
     "data": {
      "text/plain": [
       "RandomForestClassifier(bootstrap=True, class_weight=None, criterion='gini',\n",
       "            max_depth=None, max_features='auto', max_leaf_nodes=None,\n",
       "            min_impurity_decrease=0.0, min_impurity_split=None,\n",
       "            min_samples_leaf=1, min_samples_split=2,\n",
       "            min_weight_fraction_leaf=0.0, n_estimators=10, n_jobs=1,\n",
       "            oob_score=False, random_state=None, verbose=0,\n",
       "            warm_start=False)"
      ]
     },
     "execution_count": 59,
     "metadata": {},
     "output_type": "execute_result"
    }
   ],
   "source": [
    "X = reserve_visit_data.drop(['visitors', 'visit_datetime', 'weekday_', 'weekday_name','visit_date', 'air_store_id', 'day_of_week'], axis=1)\n",
    "y = reserve_visit_data['visitors']  \n",
    "\n",
    "X_train, X_test, y_train, y_test = train_test_split(X, y, train_size=0.6, test_size=0.4, shuffle = True, random_state=42)\n",
    "\n",
    "clf = RandomForestClassifier()\n",
    "clf.fit(X_train, y_train)"
   ]
  },
  {
   "cell_type": "code",
   "execution_count": 60,
   "metadata": {},
   "outputs": [],
   "source": [
    "predicted_values = clf.predict(X_test)"
   ]
  },
  {
   "cell_type": "code",
   "execution_count": 61,
   "metadata": {},
   "outputs": [
    {
     "name": "stdout",
     "output_type": "stream",
     "text": [
      "['avg_diff_reservation_visit_days', 'sum_visitors', 'month', 'weekday', 'year', 'holiday_flg']\n"
     ]
    }
   ],
   "source": [
    "importances = clf.feature_importances_\n",
    "indices = np.argsort(importances)[::-1]\n",
    "topX=25\n",
    "names = [X.columns[i] for i in indices[:topX]]\n",
    "print(names)"
   ]
  },
  {
   "cell_type": "code",
   "execution_count": 62,
   "metadata": {},
   "outputs": [
    {
     "data": {
      "text/plain": [
       "{'datasize': '(35698, 6)',\n",
       " 'mae': 14.893767507002801,\n",
       " 'rmse': 20.679867813240712}"
      ]
     },
     "execution_count": 62,
     "metadata": {},
     "output_type": "execute_result"
    }
   ],
   "source": [
    "import numpy as np\n",
    "from sklearn import metrics \n",
    "results={'datasize':str(X.shape),\n",
    "         'mae': metrics.mean_absolute_error(y_test, predicted_values),\n",
    "         'rmse': np.sqrt(metrics.mean_squared_error(y_test, predicted_values))}        \n",
    "results"
   ]
  },
  {
   "cell_type": "markdown",
   "metadata": {},
   "source": [
    "K-means"
   ]
  },
  {
   "cell_type": "markdown",
   "metadata": {},
   "source": [
    "Label encoding \n",
    "Label encoding generates unique integers linked to string data\n",
    "Therefore the air_store_id can be used as a feature for the model, as it afterwards is from type integer. \n",
    " "
   ]
  },
  {
   "cell_type": "code",
   "execution_count": 72,
   "metadata": {},
   "outputs": [
    {
     "data": {
      "text/plain": [
       "LabelEncoder()"
      ]
     },
     "execution_count": 72,
     "metadata": {},
     "output_type": "execute_result"
    }
   ],
   "source": [
    "from sklearn import preprocessing\n",
    "le = preprocessing.LabelEncoder()\n",
    "le.fit(reserve_visit_data['air_store_id'])"
   ]
  },
  {
   "cell_type": "code",
   "execution_count": 73,
   "metadata": {},
   "outputs": [],
   "source": [
    "reserve_visit_data['store_int'] = le.transform(reserve_visit_data['air_store_id']) "
   ]
  },
  {
   "cell_type": "code",
   "execution_count": 75,
   "metadata": {},
   "outputs": [
    {
     "data": {
      "text/html": [
       "<div>\n",
       "<style scoped>\n",
       "    .dataframe tbody tr th:only-of-type {\n",
       "        vertical-align: middle;\n",
       "    }\n",
       "\n",
       "    .dataframe tbody tr th {\n",
       "        vertical-align: top;\n",
       "    }\n",
       "\n",
       "    .dataframe thead th {\n",
       "        text-align: right;\n",
       "    }\n",
       "</style>\n",
       "<table border=\"1\" class=\"dataframe\">\n",
       "  <thead>\n",
       "    <tr style=\"text-align: right;\">\n",
       "      <th></th>\n",
       "      <th>air_store_id</th>\n",
       "      <th>visit_date</th>\n",
       "      <th>visitors</th>\n",
       "      <th>visit_datetime</th>\n",
       "      <th>weekday</th>\n",
       "      <th>weekday_</th>\n",
       "      <th>year</th>\n",
       "      <th>month</th>\n",
       "      <th>sum_visitors</th>\n",
       "      <th>avg_diff_reservation_visit_days</th>\n",
       "      <th>weekday_name</th>\n",
       "      <th>day_of_week</th>\n",
       "      <th>holiday_flg</th>\n",
       "      <th>store_int</th>\n",
       "    </tr>\n",
       "  </thead>\n",
       "  <tbody>\n",
       "    <tr>\n",
       "      <th>0</th>\n",
       "      <td>air_35512c42db0868da</td>\n",
       "      <td>2016-02-27</td>\n",
       "      <td>6</td>\n",
       "      <td>2016-02-27</td>\n",
       "      <td>5</td>\n",
       "      <td>Saturday</td>\n",
       "      <td>2016</td>\n",
       "      <td>2</td>\n",
       "      <td>12</td>\n",
       "      <td>0</td>\n",
       "      <td>Saturday</td>\n",
       "      <td>Saturday</td>\n",
       "      <td>0</td>\n",
       "      <td>66</td>\n",
       "    </tr>\n",
       "    <tr>\n",
       "      <th>1</th>\n",
       "      <td>air_ee3a01f0c71a769f</td>\n",
       "      <td>2016-01-04</td>\n",
       "      <td>61</td>\n",
       "      <td>2016-01-04</td>\n",
       "      <td>0</td>\n",
       "      <td>Monday</td>\n",
       "      <td>2016</td>\n",
       "      <td>1</td>\n",
       "      <td>2</td>\n",
       "      <td>0</td>\n",
       "      <td>Monday</td>\n",
       "      <td>Monday</td>\n",
       "      <td>0</td>\n",
       "      <td>310</td>\n",
       "    </tr>\n",
       "    <tr>\n",
       "      <th>2</th>\n",
       "      <td>air_ee3a01f0c71a769f</td>\n",
       "      <td>2016-01-08</td>\n",
       "      <td>21</td>\n",
       "      <td>2016-01-08</td>\n",
       "      <td>4</td>\n",
       "      <td>Friday</td>\n",
       "      <td>2016</td>\n",
       "      <td>1</td>\n",
       "      <td>3</td>\n",
       "      <td>2</td>\n",
       "      <td>Friday</td>\n",
       "      <td>Friday</td>\n",
       "      <td>0</td>\n",
       "      <td>310</td>\n",
       "    </tr>\n",
       "    <tr>\n",
       "      <th>3</th>\n",
       "      <td>air_ee3a01f0c71a769f</td>\n",
       "      <td>2016-01-09</td>\n",
       "      <td>57</td>\n",
       "      <td>2016-01-09</td>\n",
       "      <td>5</td>\n",
       "      <td>Saturday</td>\n",
       "      <td>2016</td>\n",
       "      <td>1</td>\n",
       "      <td>25</td>\n",
       "      <td>35</td>\n",
       "      <td>Saturday</td>\n",
       "      <td>Saturday</td>\n",
       "      <td>0</td>\n",
       "      <td>310</td>\n",
       "    </tr>\n",
       "    <tr>\n",
       "      <th>4</th>\n",
       "      <td>air_ee3a01f0c71a769f</td>\n",
       "      <td>2016-01-10</td>\n",
       "      <td>32</td>\n",
       "      <td>2016-01-10</td>\n",
       "      <td>6</td>\n",
       "      <td>Sunday</td>\n",
       "      <td>2016</td>\n",
       "      <td>1</td>\n",
       "      <td>5</td>\n",
       "      <td>4</td>\n",
       "      <td>Sunday</td>\n",
       "      <td>Sunday</td>\n",
       "      <td>0</td>\n",
       "      <td>310</td>\n",
       "    </tr>\n",
       "  </tbody>\n",
       "</table>\n",
       "</div>"
      ],
      "text/plain": [
       "           air_store_id  visit_date  visitors visit_datetime  weekday  \\\n",
       "0  air_35512c42db0868da  2016-02-27         6     2016-02-27        5   \n",
       "1  air_ee3a01f0c71a769f  2016-01-04        61     2016-01-04        0   \n",
       "2  air_ee3a01f0c71a769f  2016-01-08        21     2016-01-08        4   \n",
       "3  air_ee3a01f0c71a769f  2016-01-09        57     2016-01-09        5   \n",
       "4  air_ee3a01f0c71a769f  2016-01-10        32     2016-01-10        6   \n",
       "\n",
       "   weekday_  year  month  sum_visitors  avg_diff_reservation_visit_days  \\\n",
       "0  Saturday  2016      2            12                                0   \n",
       "1    Monday  2016      1             2                                0   \n",
       "2    Friday  2016      1             3                                2   \n",
       "3  Saturday  2016      1            25                               35   \n",
       "4    Sunday  2016      1             5                                4   \n",
       "\n",
       "  weekday_name day_of_week  holiday_flg  store_int  \n",
       "0     Saturday    Saturday            0         66  \n",
       "1       Monday      Monday            0        310  \n",
       "2       Friday      Friday            0        310  \n",
       "3     Saturday    Saturday            0        310  \n",
       "4       Sunday      Sunday            0        310  "
      ]
     },
     "execution_count": 75,
     "metadata": {},
     "output_type": "execute_result"
    }
   ],
   "source": [
    "reserve_visit_data.head() "
   ]
  },
  {
   "cell_type": "markdown",
   "metadata": {},
   "source": [
    "Return original air_store_id based on linken store_int "
   ]
  },
  {
   "cell_type": "code",
   "execution_count": 78,
   "metadata": {},
   "outputs": [],
   "source": [
    "#list(le.inverse_transform(reserve_visit_data['store_int'])) "
   ]
  },
  {
   "cell_type": "code",
   "execution_count": 79,
   "metadata": {},
   "outputs": [],
   "source": [
    "airstore_info=pd.read_csv(path+'air_store_info.csv')"
   ]
  },
  {
   "cell_type": "code",
   "execution_count": 97,
   "metadata": {},
   "outputs": [
    {
     "data": {
      "text/html": [
       "<div>\n",
       "<style scoped>\n",
       "    .dataframe tbody tr th:only-of-type {\n",
       "        vertical-align: middle;\n",
       "    }\n",
       "\n",
       "    .dataframe tbody tr th {\n",
       "        vertical-align: top;\n",
       "    }\n",
       "\n",
       "    .dataframe thead th {\n",
       "        text-align: right;\n",
       "    }\n",
       "</style>\n",
       "<table border=\"1\" class=\"dataframe\">\n",
       "  <thead>\n",
       "    <tr style=\"text-align: right;\">\n",
       "      <th></th>\n",
       "      <th>latitude</th>\n",
       "      <th>longitude</th>\n",
       "    </tr>\n",
       "  </thead>\n",
       "  <tbody>\n",
       "    <tr>\n",
       "      <th>0</th>\n",
       "      <td>34.695124</td>\n",
       "      <td>135.197852</td>\n",
       "    </tr>\n",
       "    <tr>\n",
       "      <th>1</th>\n",
       "      <td>34.695124</td>\n",
       "      <td>135.197852</td>\n",
       "    </tr>\n",
       "    <tr>\n",
       "      <th>2</th>\n",
       "      <td>34.695124</td>\n",
       "      <td>135.197852</td>\n",
       "    </tr>\n",
       "    <tr>\n",
       "      <th>3</th>\n",
       "      <td>34.695124</td>\n",
       "      <td>135.197852</td>\n",
       "    </tr>\n",
       "    <tr>\n",
       "      <th>4</th>\n",
       "      <td>35.658068</td>\n",
       "      <td>139.751599</td>\n",
       "    </tr>\n",
       "  </tbody>\n",
       "</table>\n",
       "</div>"
      ],
      "text/plain": [
       "    latitude   longitude\n",
       "0  34.695124  135.197852\n",
       "1  34.695124  135.197852\n",
       "2  34.695124  135.197852\n",
       "3  34.695124  135.197852\n",
       "4  35.658068  139.751599"
      ]
     },
     "execution_count": 97,
     "metadata": {},
     "output_type": "execute_result"
    }
   ],
   "source": [
    "Xi =airstore_info[['latitude','longitude']] \n",
    "Xi.head()"
   ]
  },
  {
   "cell_type": "code",
   "execution_count": 98,
   "metadata": {},
   "outputs": [],
   "source": [
    "k_means=KMeans(n_clusters=2,random_state=0).fit(Xi)\n",
    "cluster_values=k_means.predict(X)"
   ]
  },
  {
   "cell_type": "code",
   "execution_count": 99,
   "metadata": {},
   "outputs": [
    {
     "name": "stdout",
     "output_type": "stream",
     "text": [
      "0\n",
      "         latitude   longitude  labels\n",
      "count  290.000000  290.000000   290.0\n",
      "mean    34.185851  132.885989     0.0\n",
      "std      0.543072    2.331176     0.0\n",
      "min     33.211967  130.195555     0.0\n",
      "25%     33.589216  130.392813     0.0\n",
      "50%     34.386245  132.455018     0.0\n",
      "75%     34.695124  135.472229     0.0\n",
      "max     34.815149  135.628100     0.0\n",
      "1\n",
      "         latitude   longitude  labels\n",
      "count  539.000000  539.000000   539.0\n",
      "mean    36.433212  139.852237     1.0\n",
      "std      2.181700    0.766609     0.0\n",
      "min     34.710895  137.725940     1.0\n",
      "25%     35.658068  139.697689     1.0\n",
      "50%     35.672853  139.715963     1.0\n",
      "75%     35.712607  139.771861     1.0\n",
      "max     44.020632  144.273398     1.0\n"
     ]
    },
    {
     "name": "stderr",
     "output_type": "stream",
     "text": [
      "C:\\Users\\kleis500\\AppData\\Local\\Continuum\\anaconda3\\lib\\site-packages\\ipykernel_launcher.py:1: SettingWithCopyWarning: \n",
      "A value is trying to be set on a copy of a slice from a DataFrame.\n",
      "Try using .loc[row_indexer,col_indexer] = value instead\n",
      "\n",
      "See the caveats in the documentation: http://pandas.pydata.org/pandas-docs/stable/indexing.html#indexing-view-versus-copy\n",
      "  \"\"\"Entry point for launching an IPython kernel.\n"
     ]
    }
   ],
   "source": [
    "Xi['labels'] = k_means.labels_\n",
    "# df_labels=pd.DataFrame({'labels': kmeans.labels_})\n",
    "label_groups = Xi.groupby('labels')\n",
    "\n",
    "for name, group in label_groups:\n",
    "    print(name) \n",
    "    print(group.describe())"
   ]
  },
  {
   "cell_type": "code",
   "execution_count": 100,
   "metadata": {},
   "outputs": [],
   "source": [
    "distortions=[]\n",
    "K = range(1,10)\n",
    "for k in K:\n",
    "    kmeanModel = KMeans(n_clusters=k).fit(Xi)\n",
    "    kmeanModel.fit(Xi)\n",
    "    distortions.append(sum(np.min(cdist(Xi, kmeanModel.cluster_centers_, 'euclidean'), axis=1)) / Xi.shape[0])"
   ]
  },
  {
   "cell_type": "code",
   "execution_count": 101,
   "metadata": {},
   "outputs": [
    {
     "data": {
      "image/png": "[encoded data removed]",
      "text/plain": [
       "<matplotlib.figure.Figure at 0x25c8037e7f0>"
      ]
     },
     "metadata": {},
     "output_type": "display_data"
    }
   ],
   "source": [
    "plt.plot(K, distortions, 'bx-')\n",
    "plt.xlabel('k')\n",
    "plt.ylabel('Distortion')\n",
    "plt.title('The Elbow Method showing the optimal k')\n",
    "plt.show()"
   ]
  },
  {
   "cell_type": "code",
   "execution_count": 102,
   "metadata": {},
   "outputs": [
    {
     "name": "stdout",
     "output_type": "stream",
     "text": [
      "<class 'pandas.core.frame.DataFrame'>\n",
      "Int64Index: 35698 entries, 0 to 35697\n",
      "Data columns (total 18 columns):\n",
      "air_store_id                       35698 non-null object\n",
      "visit_date                         35698 non-null object\n",
      "visitors                           35698 non-null int64\n",
      "visit_datetime                     35698 non-null datetime64[ns]\n",
      "weekday                            35698 non-null int64\n",
      "weekday_                           35698 non-null object\n",
      "year                               35698 non-null int64\n",
      "month                              35698 non-null int64\n",
      "sum_visitors                       35698 non-null int64\n",
      "avg_diff_reservation_visit_days    35698 non-null int64\n",
      "weekday_name                       35698 non-null object\n",
      "day_of_week                        35698 non-null object\n",
      "holiday_flg                        35698 non-null int64\n",
      "store_int                          35698 non-null int64\n",
      "air_genre_name                     35698 non-null object\n",
      "air_area_name                      35698 non-null object\n",
      "latitude                           35698 non-null float64\n",
      "longitude                          35698 non-null float64\n",
      "dtypes: datetime64[ns](1), float64(2), int64(8), object(7)\n",
      "memory usage: 5.2+ MB\n"
     ]
    },
    {
     "data": {
      "text/html": [
       "<div>\n",
       "<style scoped>\n",
       "    .dataframe tbody tr th:only-of-type {\n",
       "        vertical-align: middle;\n",
       "    }\n",
       "\n",
       "    .dataframe tbody tr th {\n",
       "        vertical-align: top;\n",
       "    }\n",
       "\n",
       "    .dataframe thead th {\n",
       "        text-align: right;\n",
       "    }\n",
       "</style>\n",
       "<table border=\"1\" class=\"dataframe\">\n",
       "  <thead>\n",
       "    <tr style=\"text-align: right;\">\n",
       "      <th></th>\n",
       "      <th>air_store_id</th>\n",
       "      <th>visit_date</th>\n",
       "      <th>visitors</th>\n",
       "      <th>visit_datetime</th>\n",
       "      <th>weekday</th>\n",
       "      <th>weekday_</th>\n",
       "      <th>year</th>\n",
       "      <th>month</th>\n",
       "      <th>sum_visitors</th>\n",
       "      <th>avg_diff_reservation_visit_days</th>\n",
       "      <th>weekday_name</th>\n",
       "      <th>day_of_week</th>\n",
       "      <th>holiday_flg</th>\n",
       "      <th>store_int</th>\n",
       "      <th>air_genre_name</th>\n",
       "      <th>air_area_name</th>\n",
       "      <th>latitude</th>\n",
       "      <th>longitude</th>\n",
       "    </tr>\n",
       "  </thead>\n",
       "  <tbody>\n",
       "    <tr>\n",
       "      <th>0</th>\n",
       "      <td>air_35512c42db0868da</td>\n",
       "      <td>2016-02-27</td>\n",
       "      <td>6</td>\n",
       "      <td>2016-02-27</td>\n",
       "      <td>5</td>\n",
       "      <td>Saturday</td>\n",
       "      <td>2016</td>\n",
       "      <td>2</td>\n",
       "      <td>12</td>\n",
       "      <td>0</td>\n",
       "      <td>Saturday</td>\n",
       "      <td>Saturday</td>\n",
       "      <td>0</td>\n",
       "      <td>66</td>\n",
       "      <td>Dining bar</td>\n",
       "      <td>Tōkyō-to Musashino-shi Midorichō</td>\n",
       "      <td>35.717784</td>\n",
       "      <td>139.56626</td>\n",
       "    </tr>\n",
       "  </tbody>\n",
       "</table>\n",
       "</div>"
      ],
      "text/plain": [
       "           air_store_id  visit_date  visitors visit_datetime  weekday  \\\n",
       "0  air_35512c42db0868da  2016-02-27         6     2016-02-27        5   \n",
       "\n",
       "   weekday_  year  month  sum_visitors  avg_diff_reservation_visit_days  \\\n",
       "0  Saturday  2016      2            12                                0   \n",
       "\n",
       "  weekday_name day_of_week  holiday_flg  store_int air_genre_name  \\\n",
       "0     Saturday    Saturday            0         66     Dining bar   \n",
       "\n",
       "                      air_area_name   latitude  longitude  \n",
       "0  Tōkyō-to Musashino-shi Midorichō  35.717784  139.56626  "
      ]
     },
     "execution_count": 102,
     "metadata": {},
     "output_type": "execute_result"
    }
   ],
   "source": [
    "reserve_visit_info_data=pd.merge(reserve_visit_data, airstore_info, how='inner', on=['air_store_id'])\n",
    "reserve_visit_info_data.info()\n",
    "reserve_visit_info_data.head(1)"
   ]
  },
  {
   "cell_type": "code",
   "execution_count": 106,
   "metadata": {},
   "outputs": [
    {
     "data": {
      "text/plain": [
       "72"
      ]
     },
     "execution_count": 106,
     "metadata": {},
     "output_type": "execute_result"
    }
   ],
   "source": [
    "len(reserve_visit_info_data.air_area_name.unique())"
   ]
  },
  {
   "cell_type": "code",
   "execution_count": null,
   "metadata": {},
   "outputs": [],
   "source": []
  }
 ],
 "metadata": {
  "kernelspec": {
   "display_name": "Python 3",
   "language": "python",
   "name": "python3"
  },
  "language_info": {
   "codemirror_mode": {
    "name": "ipython",
    "version": 3
   },
   "file_extension": ".py",
   "mimetype": "text/x-python",
   "name": "python",
   "nbconvert_exporter": "python",
   "pygments_lexer": "ipython3",
   "version": "3.6.4"
  }
 },
 "nbformat": 4,
 "nbformat_minor": 2
}
