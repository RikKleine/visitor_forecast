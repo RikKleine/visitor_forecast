{
 "cells": [
  {
   "cell_type": "markdown",
   "metadata": {},
   "source": [
    "## Kaggle restaurants "
   ]
  },
  {
   "cell_type": "markdown",
   "metadata": {},
   "source": [
    "Datasets:\n",
    "- Store_info_HPG.csv\n",
    "- Store_info_Air.csv\n",
    "\n",
    "Stappen:\n",
    "- Mergen datasets"
   ]
  },
  {
   "cell_type": "code",
   "execution_count": 11,
   "metadata": {
    "collapsed": true
   },
   "outputs": [],
   "source": [
    "import pandas as pd"
   ]
  },
  {
   "cell_type": "markdown",
   "metadata": {},
   "source": [
    "## Inlezen datasets"
   ]
  },
  {
   "cell_type": "code",
   "execution_count": 12,
   "metadata": {
    "collapsed": true
   },
   "outputs": [],
   "source": [
    "DATAFOLDER=\"C:/Users/snijd507/Documents/Python Scripts/Kaggle Restaurant Case/Data/\""
   ]
  },
  {
   "cell_type": "code",
   "execution_count": 13,
   "metadata": {
    "collapsed": true
   },
   "outputs": [],
   "source": [
    "HPG_store = pd.read_csv(DATAFOLDER+\"hpg_store_info.csv\")"
   ]
  },
  {
   "cell_type": "code",
   "execution_count": 14,
   "metadata": {
    "collapsed": true
   },
   "outputs": [],
   "source": [
    "AIR_store = pd.read_csv(DATAFOLDER+\"air_store_info.csv\")"
   ]
  },
  {
   "cell_type": "markdown",
   "metadata": {},
   "source": [
    "Koppeltabel inladen"
   ]
  },
  {
   "cell_type": "code",
   "execution_count": 15,
   "metadata": {
    "collapsed": true
   },
   "outputs": [],
   "source": [
    "Store_id = pd.read_csv(DATAFOLDER+\"store_id_relation.csv\")"
   ]
  },
  {
   "cell_type": "markdown",
   "metadata": {},
   "source": [
    "Datasets bekijken"
   ]
  },
  {
   "cell_type": "code",
   "execution_count": 16,
   "metadata": {},
   "outputs": [
    {
     "data": {
      "text/html": [
       "<div>\n",
       "<style>\n",
       "    .dataframe thead tr:only-child th {\n",
       "        text-align: right;\n",
       "    }\n",
       "\n",
       "    .dataframe thead th {\n",
       "        text-align: left;\n",
       "    }\n",
       "\n",
       "    .dataframe tbody tr th {\n",
       "        vertical-align: top;\n",
       "    }\n",
       "</style>\n",
       "<table border=\"1\" class=\"dataframe\">\n",
       "  <thead>\n",
       "    <tr style=\"text-align: right;\">\n",
       "      <th></th>\n",
       "      <th>air_store_id</th>\n",
       "      <th>air_genre_name</th>\n",
       "      <th>air_area_name</th>\n",
       "      <th>latitude</th>\n",
       "      <th>longitude</th>\n",
       "    </tr>\n",
       "  </thead>\n",
       "  <tbody>\n",
       "    <tr>\n",
       "      <th>0</th>\n",
       "      <td>air_0f0cdeee6c9bf3d7</td>\n",
       "      <td>Italian/French</td>\n",
       "      <td>Hyōgo-ken Kōbe-shi Kumoidōri</td>\n",
       "      <td>34.695124</td>\n",
       "      <td>135.197852</td>\n",
       "    </tr>\n",
       "    <tr>\n",
       "      <th>1</th>\n",
       "      <td>air_7cc17a324ae5c7dc</td>\n",
       "      <td>Italian/French</td>\n",
       "      <td>Hyōgo-ken Kōbe-shi Kumoidōri</td>\n",
       "      <td>34.695124</td>\n",
       "      <td>135.197852</td>\n",
       "    </tr>\n",
       "    <tr>\n",
       "      <th>2</th>\n",
       "      <td>air_fee8dcf4d619598e</td>\n",
       "      <td>Italian/French</td>\n",
       "      <td>Hyōgo-ken Kōbe-shi Kumoidōri</td>\n",
       "      <td>34.695124</td>\n",
       "      <td>135.197852</td>\n",
       "    </tr>\n",
       "    <tr>\n",
       "      <th>3</th>\n",
       "      <td>air_a17f0778617c76e2</td>\n",
       "      <td>Italian/French</td>\n",
       "      <td>Hyōgo-ken Kōbe-shi Kumoidōri</td>\n",
       "      <td>34.695124</td>\n",
       "      <td>135.197852</td>\n",
       "    </tr>\n",
       "    <tr>\n",
       "      <th>4</th>\n",
       "      <td>air_83db5aff8f50478e</td>\n",
       "      <td>Italian/French</td>\n",
       "      <td>Tōkyō-to Minato-ku Shibakōen</td>\n",
       "      <td>35.658068</td>\n",
       "      <td>139.751599</td>\n",
       "    </tr>\n",
       "  </tbody>\n",
       "</table>\n",
       "</div>"
      ],
      "text/plain": [
       "           air_store_id  air_genre_name                 air_area_name  \\\n",
       "0  air_0f0cdeee6c9bf3d7  Italian/French  Hyōgo-ken Kōbe-shi Kumoidōri   \n",
       "1  air_7cc17a324ae5c7dc  Italian/French  Hyōgo-ken Kōbe-shi Kumoidōri   \n",
       "2  air_fee8dcf4d619598e  Italian/French  Hyōgo-ken Kōbe-shi Kumoidōri   \n",
       "3  air_a17f0778617c76e2  Italian/French  Hyōgo-ken Kōbe-shi Kumoidōri   \n",
       "4  air_83db5aff8f50478e  Italian/French  Tōkyō-to Minato-ku Shibakōen   \n",
       "\n",
       "    latitude   longitude  \n",
       "0  34.695124  135.197852  \n",
       "1  34.695124  135.197852  \n",
       "2  34.695124  135.197852  \n",
       "3  34.695124  135.197852  \n",
       "4  35.658068  139.751599  "
      ]
     },
     "execution_count": 16,
     "metadata": {},
     "output_type": "execute_result"
    }
   ],
   "source": [
    "AIR_store.head()"
   ]
  },
  {
   "cell_type": "code",
   "execution_count": 17,
   "metadata": {},
   "outputs": [
    {
     "data": {
      "text/html": [
       "<div>\n",
       "<style>\n",
       "    .dataframe thead tr:only-child th {\n",
       "        text-align: right;\n",
       "    }\n",
       "\n",
       "    .dataframe thead th {\n",
       "        text-align: left;\n",
       "    }\n",
       "\n",
       "    .dataframe tbody tr th {\n",
       "        vertical-align: top;\n",
       "    }\n",
       "</style>\n",
       "<table border=\"1\" class=\"dataframe\">\n",
       "  <thead>\n",
       "    <tr style=\"text-align: right;\">\n",
       "      <th></th>\n",
       "      <th>hpg_store_id</th>\n",
       "      <th>hpg_genre_name</th>\n",
       "      <th>hpg_area_name</th>\n",
       "      <th>latitude</th>\n",
       "      <th>longitude</th>\n",
       "    </tr>\n",
       "  </thead>\n",
       "  <tbody>\n",
       "    <tr>\n",
       "      <th>0</th>\n",
       "      <td>hpg_6622b62385aec8bf</td>\n",
       "      <td>Japanese style</td>\n",
       "      <td>Tōkyō-to Setagaya-ku Taishidō</td>\n",
       "      <td>35.643675</td>\n",
       "      <td>139.668221</td>\n",
       "    </tr>\n",
       "    <tr>\n",
       "      <th>1</th>\n",
       "      <td>hpg_e9e068dd49c5fa00</td>\n",
       "      <td>Japanese style</td>\n",
       "      <td>Tōkyō-to Setagaya-ku Taishidō</td>\n",
       "      <td>35.643675</td>\n",
       "      <td>139.668221</td>\n",
       "    </tr>\n",
       "    <tr>\n",
       "      <th>2</th>\n",
       "      <td>hpg_2976f7acb4b3a3bc</td>\n",
       "      <td>Japanese style</td>\n",
       "      <td>Tōkyō-to Setagaya-ku Taishidō</td>\n",
       "      <td>35.643675</td>\n",
       "      <td>139.668221</td>\n",
       "    </tr>\n",
       "    <tr>\n",
       "      <th>3</th>\n",
       "      <td>hpg_e51a522e098f024c</td>\n",
       "      <td>Japanese style</td>\n",
       "      <td>Tōkyō-to Setagaya-ku Taishidō</td>\n",
       "      <td>35.643675</td>\n",
       "      <td>139.668221</td>\n",
       "    </tr>\n",
       "    <tr>\n",
       "      <th>4</th>\n",
       "      <td>hpg_e3d0e1519894f275</td>\n",
       "      <td>Japanese style</td>\n",
       "      <td>Tōkyō-to Setagaya-ku Taishidō</td>\n",
       "      <td>35.643675</td>\n",
       "      <td>139.668221</td>\n",
       "    </tr>\n",
       "  </tbody>\n",
       "</table>\n",
       "</div>"
      ],
      "text/plain": [
       "           hpg_store_id  hpg_genre_name                  hpg_area_name  \\\n",
       "0  hpg_6622b62385aec8bf  Japanese style  Tōkyō-to Setagaya-ku Taishidō   \n",
       "1  hpg_e9e068dd49c5fa00  Japanese style  Tōkyō-to Setagaya-ku Taishidō   \n",
       "2  hpg_2976f7acb4b3a3bc  Japanese style  Tōkyō-to Setagaya-ku Taishidō   \n",
       "3  hpg_e51a522e098f024c  Japanese style  Tōkyō-to Setagaya-ku Taishidō   \n",
       "4  hpg_e3d0e1519894f275  Japanese style  Tōkyō-to Setagaya-ku Taishidō   \n",
       "\n",
       "    latitude   longitude  \n",
       "0  35.643675  139.668221  \n",
       "1  35.643675  139.668221  \n",
       "2  35.643675  139.668221  \n",
       "3  35.643675  139.668221  \n",
       "4  35.643675  139.668221  "
      ]
     },
     "execution_count": 17,
     "metadata": {},
     "output_type": "execute_result"
    }
   ],
   "source": [
    "HPG_store.head()"
   ]
  },
  {
   "cell_type": "code",
   "execution_count": 18,
   "metadata": {},
   "outputs": [
    {
     "data": {
      "text/html": [
       "<div>\n",
       "<style>\n",
       "    .dataframe thead tr:only-child th {\n",
       "        text-align: right;\n",
       "    }\n",
       "\n",
       "    .dataframe thead th {\n",
       "        text-align: left;\n",
       "    }\n",
       "\n",
       "    .dataframe tbody tr th {\n",
       "        vertical-align: top;\n",
       "    }\n",
       "</style>\n",
       "<table border=\"1\" class=\"dataframe\">\n",
       "  <thead>\n",
       "    <tr style=\"text-align: right;\">\n",
       "      <th></th>\n",
       "      <th>air_store_id</th>\n",
       "      <th>hpg_store_id</th>\n",
       "    </tr>\n",
       "  </thead>\n",
       "  <tbody>\n",
       "    <tr>\n",
       "      <th>0</th>\n",
       "      <td>air_63b13c56b7201bd9</td>\n",
       "      <td>hpg_4bc649e72e2a239a</td>\n",
       "    </tr>\n",
       "    <tr>\n",
       "      <th>1</th>\n",
       "      <td>air_a24bf50c3e90d583</td>\n",
       "      <td>hpg_c34b496d0305a809</td>\n",
       "    </tr>\n",
       "    <tr>\n",
       "      <th>2</th>\n",
       "      <td>air_c7f78b4f3cba33ff</td>\n",
       "      <td>hpg_cd8ae0d9bbd58ff9</td>\n",
       "    </tr>\n",
       "    <tr>\n",
       "      <th>3</th>\n",
       "      <td>air_947eb2cae4f3e8f2</td>\n",
       "      <td>hpg_de24ea49dc25d6b8</td>\n",
       "    </tr>\n",
       "    <tr>\n",
       "      <th>4</th>\n",
       "      <td>air_965b2e0cf4119003</td>\n",
       "      <td>hpg_653238a84804d8e7</td>\n",
       "    </tr>\n",
       "  </tbody>\n",
       "</table>\n",
       "</div>"
      ],
      "text/plain": [
       "           air_store_id          hpg_store_id\n",
       "0  air_63b13c56b7201bd9  hpg_4bc649e72e2a239a\n",
       "1  air_a24bf50c3e90d583  hpg_c34b496d0305a809\n",
       "2  air_c7f78b4f3cba33ff  hpg_cd8ae0d9bbd58ff9\n",
       "3  air_947eb2cae4f3e8f2  hpg_de24ea49dc25d6b8\n",
       "4  air_965b2e0cf4119003  hpg_653238a84804d8e7"
      ]
     },
     "execution_count": 18,
     "metadata": {},
     "output_type": "execute_result"
    }
   ],
   "source": [
    "Store_id.head()"
   ]
  },
  {
   "cell_type": "markdown",
   "metadata": {},
   "source": [
    "# Merge stores\n",
    "- df om verder mee te gaan: store_merged\n",
    "- Air_store is de basis overlappende stores uit HPG_stores zijn toegevoegd via merge"
   ]
  },
  {
   "cell_type": "code",
   "execution_count": 20,
   "metadata": {},
   "outputs": [
    {
     "data": {
      "text/plain": [
       "(150, 2)"
      ]
     },
     "execution_count": 20,
     "metadata": {},
     "output_type": "execute_result"
    }
   ],
   "source": [
    "Store_id.shape"
   ]
  },
  {
   "cell_type": "code",
   "execution_count": 23,
   "metadata": {},
   "outputs": [
    {
     "data": {
      "text/plain": [
       "(4690, 5)"
      ]
     },
     "execution_count": 23,
     "metadata": {},
     "output_type": "execute_result"
    }
   ],
   "source": [
    "HPG_store.shape"
   ]
  },
  {
   "cell_type": "code",
   "execution_count": 24,
   "metadata": {},
   "outputs": [
    {
     "data": {
      "text/plain": [
       "(829, 5)"
      ]
     },
     "execution_count": 24,
     "metadata": {},
     "output_type": "execute_result"
    }
   ],
   "source": [
    "AIR_store.shape"
   ]
  },
  {
   "cell_type": "code",
   "execution_count": 79,
   "metadata": {
    "collapsed": true
   },
   "outputs": [],
   "source": [
    "df_stores = pd.merge(Store_id, AIR_store, on = 'air_store_id', how = 'outer')"
   ]
  },
  {
   "cell_type": "code",
   "execution_count": 81,
   "metadata": {},
   "outputs": [
    {
     "data": {
      "text/html": [
       "<div>\n",
       "<style>\n",
       "    .dataframe thead tr:only-child th {\n",
       "        text-align: right;\n",
       "    }\n",
       "\n",
       "    .dataframe thead th {\n",
       "        text-align: left;\n",
       "    }\n",
       "\n",
       "    .dataframe tbody tr th {\n",
       "        vertical-align: top;\n",
       "    }\n",
       "</style>\n",
       "<table border=\"1\" class=\"dataframe\">\n",
       "  <thead>\n",
       "    <tr style=\"text-align: right;\">\n",
       "      <th></th>\n",
       "      <th>air_store_id</th>\n",
       "      <th>hpg_store_id</th>\n",
       "      <th>air_genre_name</th>\n",
       "      <th>air_area_name</th>\n",
       "      <th>latitude</th>\n",
       "      <th>longitude</th>\n",
       "    </tr>\n",
       "  </thead>\n",
       "  <tbody>\n",
       "    <tr>\n",
       "      <th>0</th>\n",
       "      <td>air_63b13c56b7201bd9</td>\n",
       "      <td>hpg_4bc649e72e2a239a</td>\n",
       "      <td>Cafe/Sweets</td>\n",
       "      <td>Fukuoka-ken Fukuoka-shi Daimyō</td>\n",
       "      <td>33.586994</td>\n",
       "      <td>130.394894</td>\n",
       "    </tr>\n",
       "    <tr>\n",
       "      <th>1</th>\n",
       "      <td>air_a24bf50c3e90d583</td>\n",
       "      <td>hpg_c34b496d0305a809</td>\n",
       "      <td>Dining bar</td>\n",
       "      <td>Shizuoka-ken Hamamatsu-shi Motoshirochō</td>\n",
       "      <td>34.710895</td>\n",
       "      <td>137.725940</td>\n",
       "    </tr>\n",
       "    <tr>\n",
       "      <th>2</th>\n",
       "      <td>air_c7f78b4f3cba33ff</td>\n",
       "      <td>hpg_cd8ae0d9bbd58ff9</td>\n",
       "      <td>Okonomiyaki/Monja/Teppanyaki</td>\n",
       "      <td>Tōkyō-to Minato-ku Shibakōen</td>\n",
       "      <td>35.658068</td>\n",
       "      <td>139.751599</td>\n",
       "    </tr>\n",
       "    <tr>\n",
       "      <th>3</th>\n",
       "      <td>air_947eb2cae4f3e8f2</td>\n",
       "      <td>hpg_de24ea49dc25d6b8</td>\n",
       "      <td>Izakaya</td>\n",
       "      <td>Fukuoka-ken Fukuoka-shi Hakata Ekimae</td>\n",
       "      <td>33.591358</td>\n",
       "      <td>130.414878</td>\n",
       "    </tr>\n",
       "    <tr>\n",
       "      <th>4</th>\n",
       "      <td>air_965b2e0cf4119003</td>\n",
       "      <td>hpg_653238a84804d8e7</td>\n",
       "      <td>Izakaya</td>\n",
       "      <td>Tōkyō-to Meguro-ku Kamimeguro</td>\n",
       "      <td>35.641463</td>\n",
       "      <td>139.698171</td>\n",
       "    </tr>\n",
       "  </tbody>\n",
       "</table>\n",
       "</div>"
      ],
      "text/plain": [
       "           air_store_id          hpg_store_id                air_genre_name  \\\n",
       "0  air_63b13c56b7201bd9  hpg_4bc649e72e2a239a                   Cafe/Sweets   \n",
       "1  air_a24bf50c3e90d583  hpg_c34b496d0305a809                    Dining bar   \n",
       "2  air_c7f78b4f3cba33ff  hpg_cd8ae0d9bbd58ff9  Okonomiyaki/Monja/Teppanyaki   \n",
       "3  air_947eb2cae4f3e8f2  hpg_de24ea49dc25d6b8                       Izakaya   \n",
       "4  air_965b2e0cf4119003  hpg_653238a84804d8e7                       Izakaya   \n",
       "\n",
       "                             air_area_name   latitude   longitude  \n",
       "0           Fukuoka-ken Fukuoka-shi Daimyō  33.586994  130.394894  \n",
       "1  Shizuoka-ken Hamamatsu-shi Motoshirochō  34.710895  137.725940  \n",
       "2             Tōkyō-to Minato-ku Shibakōen  35.658068  139.751599  \n",
       "3    Fukuoka-ken Fukuoka-shi Hakata Ekimae  33.591358  130.414878  \n",
       "4            Tōkyō-to Meguro-ku Kamimeguro  35.641463  139.698171  "
      ]
     },
     "execution_count": 81,
     "metadata": {},
     "output_type": "execute_result"
    }
   ],
   "source": [
    "df_stores.head()"
   ]
  },
  {
   "cell_type": "code",
   "execution_count": 82,
   "metadata": {
    "collapsed": true
   },
   "outputs": [],
   "source": [
    "store_merged = pd.merge(df_stores, HPG_store, on = ['hpg_store_id'],  how = 'left')"
   ]
  },
  {
   "cell_type": "code",
   "execution_count": 83,
   "metadata": {},
   "outputs": [
    {
     "data": {
      "text/plain": [
       "(829, 10)"
      ]
     },
     "execution_count": 83,
     "metadata": {},
     "output_type": "execute_result"
    }
   ],
   "source": [
    "store_merged.shape"
   ]
  },
  {
   "cell_type": "code",
   "execution_count": 84,
   "metadata": {},
   "outputs": [
    {
     "data": {
      "text/html": [
       "<div>\n",
       "<style>\n",
       "    .dataframe thead tr:only-child th {\n",
       "        text-align: right;\n",
       "    }\n",
       "\n",
       "    .dataframe thead th {\n",
       "        text-align: left;\n",
       "    }\n",
       "\n",
       "    .dataframe tbody tr th {\n",
       "        vertical-align: top;\n",
       "    }\n",
       "</style>\n",
       "<table border=\"1\" class=\"dataframe\">\n",
       "  <thead>\n",
       "    <tr style=\"text-align: right;\">\n",
       "      <th></th>\n",
       "      <th>air_store_id</th>\n",
       "      <th>hpg_store_id</th>\n",
       "      <th>air_genre_name</th>\n",
       "      <th>air_area_name</th>\n",
       "      <th>latitude_x</th>\n",
       "      <th>longitude_x</th>\n",
       "      <th>hpg_genre_name</th>\n",
       "      <th>hpg_area_name</th>\n",
       "      <th>latitude_y</th>\n",
       "      <th>longitude_y</th>\n",
       "    </tr>\n",
       "  </thead>\n",
       "  <tbody>\n",
       "    <tr>\n",
       "      <th>0</th>\n",
       "      <td>air_63b13c56b7201bd9</td>\n",
       "      <td>hpg_4bc649e72e2a239a</td>\n",
       "      <td>Cafe/Sweets</td>\n",
       "      <td>Fukuoka-ken Fukuoka-shi Daimyō</td>\n",
       "      <td>33.586994</td>\n",
       "      <td>130.394894</td>\n",
       "      <td>NaN</td>\n",
       "      <td>NaN</td>\n",
       "      <td>NaN</td>\n",
       "      <td>NaN</td>\n",
       "    </tr>\n",
       "    <tr>\n",
       "      <th>1</th>\n",
       "      <td>air_a24bf50c3e90d583</td>\n",
       "      <td>hpg_c34b496d0305a809</td>\n",
       "      <td>Dining bar</td>\n",
       "      <td>Shizuoka-ken Hamamatsu-shi Motoshirochō</td>\n",
       "      <td>34.710895</td>\n",
       "      <td>137.725940</td>\n",
       "      <td>Italian</td>\n",
       "      <td>Shizuoka-ken Hamamatsu-shi Sukenobuchō</td>\n",
       "      <td>34.721644</td>\n",
       "      <td>137.738944</td>\n",
       "    </tr>\n",
       "    <tr>\n",
       "      <th>2</th>\n",
       "      <td>air_c7f78b4f3cba33ff</td>\n",
       "      <td>hpg_cd8ae0d9bbd58ff9</td>\n",
       "      <td>Okonomiyaki/Monja/Teppanyaki</td>\n",
       "      <td>Tōkyō-to Minato-ku Shibakōen</td>\n",
       "      <td>35.658068</td>\n",
       "      <td>139.751599</td>\n",
       "      <td>NaN</td>\n",
       "      <td>NaN</td>\n",
       "      <td>NaN</td>\n",
       "      <td>NaN</td>\n",
       "    </tr>\n",
       "    <tr>\n",
       "      <th>3</th>\n",
       "      <td>air_947eb2cae4f3e8f2</td>\n",
       "      <td>hpg_de24ea49dc25d6b8</td>\n",
       "      <td>Izakaya</td>\n",
       "      <td>Fukuoka-ken Fukuoka-shi Hakata Ekimae</td>\n",
       "      <td>33.591358</td>\n",
       "      <td>130.414878</td>\n",
       "      <td>NaN</td>\n",
       "      <td>NaN</td>\n",
       "      <td>NaN</td>\n",
       "      <td>NaN</td>\n",
       "    </tr>\n",
       "    <tr>\n",
       "      <th>4</th>\n",
       "      <td>air_965b2e0cf4119003</td>\n",
       "      <td>hpg_653238a84804d8e7</td>\n",
       "      <td>Izakaya</td>\n",
       "      <td>Tōkyō-to Meguro-ku Kamimeguro</td>\n",
       "      <td>35.641463</td>\n",
       "      <td>139.698171</td>\n",
       "      <td>NaN</td>\n",
       "      <td>NaN</td>\n",
       "      <td>NaN</td>\n",
       "      <td>NaN</td>\n",
       "    </tr>\n",
       "    <tr>\n",
       "      <th>5</th>\n",
       "      <td>air_a38f25e3399d1b25</td>\n",
       "      <td>hpg_50378da9ffb9b6cd</td>\n",
       "      <td>Izakaya</td>\n",
       "      <td>Tōkyō-to Chiyoda-ku Kudanminami</td>\n",
       "      <td>35.694003</td>\n",
       "      <td>139.753595</td>\n",
       "      <td>Japanese style</td>\n",
       "      <td>Tōkyō-to Chiyoda-ku None</td>\n",
       "      <td>35.695780</td>\n",
       "      <td>139.768453</td>\n",
       "    </tr>\n",
       "    <tr>\n",
       "      <th>6</th>\n",
       "      <td>air_3c938075889fc059</td>\n",
       "      <td>hpg_349b1b92f98b175e</td>\n",
       "      <td>Japanese food</td>\n",
       "      <td>Fukuoka-ken Fukuoka-shi Daimyō</td>\n",
       "      <td>33.589216</td>\n",
       "      <td>130.392813</td>\n",
       "      <td>Japanese style</td>\n",
       "      <td>Fukuoka-ken Fukuoka-shi Ōmiya</td>\n",
       "      <td>33.579734</td>\n",
       "      <td>130.401762</td>\n",
       "    </tr>\n",
       "    <tr>\n",
       "      <th>7</th>\n",
       "      <td>air_68301bcb11e2f389</td>\n",
       "      <td>hpg_2c09f3abb2220659</td>\n",
       "      <td>Izakaya</td>\n",
       "      <td>Tōkyō-to Suginami-ku Asagayaminami</td>\n",
       "      <td>35.699566</td>\n",
       "      <td>139.636438</td>\n",
       "      <td>NaN</td>\n",
       "      <td>NaN</td>\n",
       "      <td>NaN</td>\n",
       "      <td>NaN</td>\n",
       "    </tr>\n",
       "    <tr>\n",
       "      <th>8</th>\n",
       "      <td>air_5f6fa1b897fe80d5</td>\n",
       "      <td>hpg_40aff6385800ebb1</td>\n",
       "      <td>Izakaya</td>\n",
       "      <td>Shizuoka-ken Shizuoka-shi Ōtemachi</td>\n",
       "      <td>34.975140</td>\n",
       "      <td>138.383243</td>\n",
       "      <td>NaN</td>\n",
       "      <td>NaN</td>\n",
       "      <td>NaN</td>\n",
       "      <td>NaN</td>\n",
       "    </tr>\n",
       "    <tr>\n",
       "      <th>9</th>\n",
       "      <td>air_00a91d42b08b08d9</td>\n",
       "      <td>hpg_fbe603376b5980fc</td>\n",
       "      <td>Italian/French</td>\n",
       "      <td>Tōkyō-to Chiyoda-ku Kudanminami</td>\n",
       "      <td>35.694003</td>\n",
       "      <td>139.753595</td>\n",
       "      <td>NaN</td>\n",
       "      <td>NaN</td>\n",
       "      <td>NaN</td>\n",
       "      <td>NaN</td>\n",
       "    </tr>\n",
       "  </tbody>\n",
       "</table>\n",
       "</div>"
      ],
      "text/plain": [
       "           air_store_id          hpg_store_id                air_genre_name  \\\n",
       "0  air_63b13c56b7201bd9  hpg_4bc649e72e2a239a                   Cafe/Sweets   \n",
       "1  air_a24bf50c3e90d583  hpg_c34b496d0305a809                    Dining bar   \n",
       "2  air_c7f78b4f3cba33ff  hpg_cd8ae0d9bbd58ff9  Okonomiyaki/Monja/Teppanyaki   \n",
       "3  air_947eb2cae4f3e8f2  hpg_de24ea49dc25d6b8                       Izakaya   \n",
       "4  air_965b2e0cf4119003  hpg_653238a84804d8e7                       Izakaya   \n",
       "5  air_a38f25e3399d1b25  hpg_50378da9ffb9b6cd                       Izakaya   \n",
       "6  air_3c938075889fc059  hpg_349b1b92f98b175e                 Japanese food   \n",
       "7  air_68301bcb11e2f389  hpg_2c09f3abb2220659                       Izakaya   \n",
       "8  air_5f6fa1b897fe80d5  hpg_40aff6385800ebb1                       Izakaya   \n",
       "9  air_00a91d42b08b08d9  hpg_fbe603376b5980fc                Italian/French   \n",
       "\n",
       "                             air_area_name  latitude_x  longitude_x  \\\n",
       "0           Fukuoka-ken Fukuoka-shi Daimyō   33.586994   130.394894   \n",
       "1  Shizuoka-ken Hamamatsu-shi Motoshirochō   34.710895   137.725940   \n",
       "2             Tōkyō-to Minato-ku Shibakōen   35.658068   139.751599   \n",
       "3    Fukuoka-ken Fukuoka-shi Hakata Ekimae   33.591358   130.414878   \n",
       "4            Tōkyō-to Meguro-ku Kamimeguro   35.641463   139.698171   \n",
       "5          Tōkyō-to Chiyoda-ku Kudanminami   35.694003   139.753595   \n",
       "6           Fukuoka-ken Fukuoka-shi Daimyō   33.589216   130.392813   \n",
       "7       Tōkyō-to Suginami-ku Asagayaminami   35.699566   139.636438   \n",
       "8       Shizuoka-ken Shizuoka-shi Ōtemachi   34.975140   138.383243   \n",
       "9          Tōkyō-to Chiyoda-ku Kudanminami   35.694003   139.753595   \n",
       "\n",
       "   hpg_genre_name                           hpg_area_name  latitude_y  \\\n",
       "0             NaN                                     NaN         NaN   \n",
       "1         Italian  Shizuoka-ken Hamamatsu-shi Sukenobuchō   34.721644   \n",
       "2             NaN                                     NaN         NaN   \n",
       "3             NaN                                     NaN         NaN   \n",
       "4             NaN                                     NaN         NaN   \n",
       "5  Japanese style                Tōkyō-to Chiyoda-ku None   35.695780   \n",
       "6  Japanese style           Fukuoka-ken Fukuoka-shi Ōmiya   33.579734   \n",
       "7             NaN                                     NaN         NaN   \n",
       "8             NaN                                     NaN         NaN   \n",
       "9             NaN                                     NaN         NaN   \n",
       "\n",
       "   longitude_y  \n",
       "0          NaN  \n",
       "1   137.738944  \n",
       "2          NaN  \n",
       "3          NaN  \n",
       "4          NaN  \n",
       "5   139.768453  \n",
       "6   130.401762  \n",
       "7          NaN  \n",
       "8          NaN  \n",
       "9          NaN  "
      ]
     },
     "execution_count": 84,
     "metadata": {},
     "output_type": "execute_result"
    }
   ],
   "source": [
    "store_merged.head(10)"
   ]
  },
  {
   "cell_type": "code",
   "execution_count": 94,
   "metadata": {},
   "outputs": [
    {
     "data": {
      "text/plain": [
       "array(['Fukuoka-ken Fukuoka-shi Daimyō',\n",
       "       'Shizuoka-ken Hamamatsu-shi Motoshirochō',\n",
       "       'Tōkyō-to Minato-ku Shibakōen',\n",
       "       'Fukuoka-ken Fukuoka-shi Hakata Ekimae',\n",
       "       'Tōkyō-to Meguro-ku Kamimeguro', 'Tōkyō-to Chiyoda-ku Kudanminami',\n",
       "       'Tōkyō-to Suginami-ku Asagayaminami',\n",
       "       'Shizuoka-ken Shizuoka-shi Ōtemachi',\n",
       "       'Tōkyō-to Machida-shi Morino', 'Tōkyō-to Shinjuku-ku Kabukichō',\n",
       "       'Hokkaidō Sapporo-shi Minami 3 Jōnishi',\n",
       "       'Tōkyō-to Shibuya-ku Shibuya', 'Tōkyō-to Tachikawa-shi Izumichō',\n",
       "       'Niigata-ken Niigata-shi Gakkōchōdōri 1 Banchō',\n",
       "       'Tōkyō-to Taitō-ku Higashiueno',\n",
       "       'Tōkyō-to Chiyoda-ku Kanda Jinbōchō',\n",
       "       'Hiroshima-ken Hiroshima-shi Kokutaijimachi',\n",
       "       'Tōkyō-to Kōtō-ku Kameido', 'Tōkyō-to Chūō-ku Tsukiji',\n",
       "       'Tōkyō-to Edogawa-ku Chūō', 'Hyōgo-ken Kōbe-shi Kumoidōri',\n",
       "       'Tōkyō-to Chūō-ku Ginza', 'Ōsaka-fu Ōsaka-shi Ōgimachi',\n",
       "       'Hokkaidō Sapporo-shi Kotoni 2 Jō', 'Tōkyō-to Kōtō-ku Tomioka',\n",
       "       'Hokkaidō Asahikawa-shi 6 Jōdōri',\n",
       "       'Hiroshima-ken Fukuyama-shi Higashisakuramachi',\n",
       "       'Hyōgo-ken Kakogawa-shi Kakogawachō Kitazaike',\n",
       "       'Ōsaka-fu Ōsaka-shi Shinmachi',\n",
       "       'Hyōgo-ken Amagasaki-shi Higashinanamatsuchō',\n",
       "       'Hiroshima-ken Hiroshima-shi Nagarekawachō',\n",
       "       'Fukuoka-ken Fukuoka-shi Shiobaru', 'Hyōgo-ken Himeji-shi Yasuda',\n",
       "       'Fukuoka-ken Fukuoka-shi Imaizumi',\n",
       "       'Ōsaka-fu Ōsaka-shi Nanbasennichimae',\n",
       "       'Fukuoka-ken Kitakyūshū-shi Ōtemachi',\n",
       "       'Niigata-ken Niigata-shi Teraohigashi', 'Tōkyō-to Ōta-ku Kamata',\n",
       "       'Tōkyō-to Kōtō-ku Tōyō', 'Miyagi-ken Sendai-shi Kamisugi',\n",
       "       'Tōkyō-to Minato-ku Akasaka', 'Ōsaka-fu Ōsaka-shi Kyūtarōmachi',\n",
       "       'Tōkyō-to Katsushika-ku Tateishi',\n",
       "       'Fukuoka-ken Kitakyūshū-shi None',\n",
       "       'Fukuoka-ken Kurume-shi Jōnanmachi',\n",
       "       'Hokkaidō Sapporo-shi Kita 24 Jōnishi',\n",
       "       'Tōkyō-to Toshima-ku Minamiikebukuro',\n",
       "       'Tōkyō-to Setagaya-ku Setagaya', 'Ōsaka-fu Suita-shi Izumichō',\n",
       "       'Tōkyō-to Ōta-ku Kamiikedai',\n",
       "       'Hyōgo-ken Nishinomiya-shi Rokutanjichō',\n",
       "       'Tōkyō-to Meguro-ku Takaban', 'Tōkyō-to Adachi-ku Chūōhonchō',\n",
       "       'Tōkyō-to Musashino-shi Midorichō',\n",
       "       'Tōkyō-to Nerima-ku Toyotamakita',\n",
       "       'Tōkyō-to Shinagawa-ku Hiromachi', 'Ōsaka-fu Ōsaka-shi Nakanochō',\n",
       "       'Tōkyō-to Toshima-ku Sugamo', 'Tōkyō-to Setagaya-ku Kitazawa',\n",
       "       'Fukuoka-ken Fukuoka-shi Tenjin',\n",
       "       'Fukuoka-ken Fukuoka-shi Takatori',\n",
       "       'Hokkaidō Sapporo-shi Atsubetsuchūō 1 Jō',\n",
       "       'Hokkaidō Abashiri-shi Minami 6 Jōhigashi',\n",
       "       'Hyōgo-ken Kōbe-shi Sumiyoshi Higashimachi',\n",
       "       'Tōkyō-to Itabashi-ku Itabashi', 'Fukuoka-ken Fukuoka-shi Torikai',\n",
       "       'Shizuoka-ken Numazu-shi Miyukichō',\n",
       "       'Ōsaka-fu Ōsaka-shi Fuminosato', 'Fukuoka-ken Fukuoka-shi Momochi',\n",
       "       'Tōkyō-to Meguro-ku Jiyūgaoka',\n",
       "       'Fukuoka-ken Itoshima-shi Maebarunishi',\n",
       "       'Tōkyō-to Musashino-shi Kichijōji Honchō',\n",
       "       'Hokkaidō Katō-gun Motomachi', 'Tōkyō-to Kita-ku Ōjihonchō',\n",
       "       'Ōsaka-fu Ōsaka-shi Ōhiraki', 'Tōkyō-to Koganei-shi Honchō',\n",
       "       'Tōkyō-to Toshima-ku Higashiikebukuro',\n",
       "       'Tōkyō-to Shinjuku-ku Nishishinjuku', 'Tōkyō-to Bunkyō-ku Kasuga',\n",
       "       'Ōsaka-fu Sakai-shi Minamikawaramachi',\n",
       "       'Tōkyō-to Setagaya-ku Okusawa',\n",
       "       'Fukuoka-ken Kitakyūshū-shi Konyamachi',\n",
       "       'Tōkyō-to Taitō-ku Kuramae', 'Hyōgo-ken Takarazuka-shi Tōyōchō',\n",
       "       'Tōkyō-to Shibuya-ku Jingūmae',\n",
       "       'Niigata-ken Kashiwazaki-shi Chūōchō',\n",
       "       'Tōkyō-to Bunkyō-ku Sendagi', 'Tōkyō-to Fuchū-shi Miyanishichō',\n",
       "       'Niigata-ken Nagaoka-shi Ōtedōri', 'Tōkyō-to Taitō-ku Asakusa',\n",
       "       'Ōsaka-fu Higashiōsaka-shi Aramotokita',\n",
       "       'Tōkyō-to Setagaya-ku Sangenjaya', 'Tōkyō-to Toshima-ku Mejiro',\n",
       "       'Hyōgo-ken Kōbe-shi Motomachidōri',\n",
       "       'Tōkyō-to Shinagawa-ku Higashigotanda',\n",
       "       'Tōkyō-to Shibuya-ku Dōgenzaka', 'Tōkyō-to Nakano-ku Nakano',\n",
       "       'Tōkyō-to Toshima-ku Nishiikebukuro',\n",
       "       'Ōsaka-fu Neyagawa-shi Honmachi', 'Tōkyō-to Minato-ku Roppongi',\n",
       "       'Fukuoka-ken Yame-shi Motomachi',\n",
       "       'Ōsaka-fu Ōsaka-shi Kyōmachibori', 'Tōkyō-to Shibuya-ku Higashi'],\n",
       "      dtype=object)"
      ]
     },
     "execution_count": 94,
     "metadata": {},
     "output_type": "execute_result"
    }
   ],
   "source": [
    "store_merged['air_area_name'].unique()"
   ]
  },
  {
   "cell_type": "code",
   "execution_count": 95,
   "metadata": {},
   "outputs": [
    {
     "data": {
      "text/plain": [
       "array([nan, 'Shizuoka-ken Hamamatsu-shi Sukenobuchō',\n",
       "       'Tōkyō-to Chiyoda-ku None', 'Fukuoka-ken Fukuoka-shi Ōmiya',\n",
       "       'Tōkyō-to Machida-shi Nakamachi', 'Tōkyō-to Shinjuku-ku None',\n",
       "       'Hokkaidō Sapporo-shi Minami 4 Jōnishi',\n",
       "       'Tōkyō-to Shibuya-ku None', 'Tōkyō-to Hachiōji-shi Ishikawamachi',\n",
       "       'Niigata-ken Niigata-shi Higashiōdōri',\n",
       "       'Tōkyō-to Sumida-ku Tachibana', 'Tōkyō-to Taitō-ku None',\n",
       "       'Tōkyō-to Chūō-ku Ginza', 'None None None',\n",
       "       'Tōkyō-to Kōtō-ku Minamisuna', 'Hokkaidō Asahikawa-shi 3 Jōdōri',\n",
       "       'Osaka Prefecture Osaka None',\n",
       "       'Hyōgo-ken Kakogawa-shi Noguchichō Yoshino',\n",
       "       'Fukuoka-ken Fukuoka-shi Hakata Ekimae',\n",
       "       'Ōsaka-fu Ōsaka-shi Shinsaibashisuji',\n",
       "       'Fukuoka-ken Fukuoka-shi Daimyō',\n",
       "       'Hiroshima-ken Hiroshima-shi Hondōri',\n",
       "       'Tōkyō-to Minato-ku Takanawa', 'Fukuoka-ken Fukuoka-shi None',\n",
       "       'Hiroshima-ken Fukuyama-shi Sannomaruchō',\n",
       "       'Hyōgo-ken Kōbe-shi None', 'Hyōgo-ken Himeji-shi Tsuchiyama',\n",
       "       'Fukuoka-ken Kitakyūshū-shi Sunatsu',\n",
       "       'Niigata-ken Niigata-shi Sakaihigashi',\n",
       "       'Kanagawa-ken Yokohama-shi Nagatsutachō',\n",
       "       'Fukuoka-ken Kitakyūshū-shi Aoyama',\n",
       "       'Tōkyō-to Shinjuku-ku Takadanobaba',\n",
       "       'Ōsaka-fu Ōsaka-shi Awajimachi', 'Tōkyō-to Shibuya-ku Ebisunishi'],\n",
       "      dtype=object)"
      ]
     },
     "execution_count": 95,
     "metadata": {},
     "output_type": "execute_result"
    }
   ],
   "source": [
    "store_merged['hpg_area_name'].unique()"
   ]
  },
  {
   "cell_type": "code",
   "execution_count": null,
   "metadata": {
    "collapsed": true
   },
   "outputs": [],
   "source": []
  }
 ],
 "metadata": {
  "kernelspec": {
   "display_name": "Python 3",
   "language": "python",
   "name": "python3"
  },
  "language_info": {
   "codemirror_mode": {
    "name": "ipython",
    "version": 3
   },
   "file_extension": ".py",
   "mimetype": "text/x-python",
   "name": "python",
   "nbconvert_exporter": "python",
   "pygments_lexer": "ipython3",
   "version": "3.6.3"
  }
 },
 "nbformat": 4,
 "nbformat_minor": 2
}
